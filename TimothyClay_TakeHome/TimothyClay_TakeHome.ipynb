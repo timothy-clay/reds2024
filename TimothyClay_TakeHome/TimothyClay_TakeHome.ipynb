{
 "cells": [
  {
   "cell_type": "markdown",
   "id": "5559ea1d",
   "metadata": {},
   "source": [
    "# Cincinnati Reds Analytics Trainee Take Home Assessment\n",
    "Timothy Clay                          \n",
    "October 28th, 2024\n",
    "\n",
    "This file contains all the necessary code to train my models that predict pitch mix distributions and to generate those predictions themselves. I tried to document my work as much as possible, but if there are any outstanding questions, please reach out to me at clay.t@northeastern.edu. \n",
    "### Table of Contents\n",
    "- [Data Processing / Feature Engineering](#section1)\n",
    "    - [Data Inspection](#subsection1)\n",
    "    - [Data Cleaning](#subsection2)\n",
    "- [Model Creation](#section2)\n",
    "- [Predictions Generation](#section3)"
   ]
  },
  {
   "cell_type": "code",
   "execution_count": 1,
   "id": "66cafac6",
   "metadata": {},
   "outputs": [],
   "source": [
    "import pandas as pd\n",
    "import numpy as np\n",
    "import pickle\n",
    "import seaborn as sns\n",
    "import matplotlib.pyplot as plt\n",
    "from xgboost import XGBRegressor\n",
    "from sklearn.model_selection import train_test_split\n",
    "from sklearn.metrics import r2_score, root_mean_squared_error\n",
    "from sklearn.model_selection import GridSearchCV"
   ]
  },
  {
   "cell_type": "code",
   "execution_count": 2,
   "id": "a74c2740",
   "metadata": {},
   "outputs": [],
   "source": [
    "df = pd.read_csv('data.csv')"
   ]
  },
  {
   "cell_type": "code",
   "execution_count": 3,
   "id": "f33bb39f",
   "metadata": {
    "scrolled": true
   },
   "outputs": [
    {
     "data": {
      "text/html": [
       "<div>\n",
       "<style scoped>\n",
       "    .dataframe tbody tr th:only-of-type {\n",
       "        vertical-align: middle;\n",
       "    }\n",
       "\n",
       "    .dataframe tbody tr th {\n",
       "        vertical-align: top;\n",
       "    }\n",
       "\n",
       "    .dataframe thead th {\n",
       "        text-align: right;\n",
       "    }\n",
       "</style>\n",
       "<table border=\"1\" class=\"dataframe\">\n",
       "  <thead>\n",
       "    <tr style=\"text-align: right;\">\n",
       "      <th></th>\n",
       "      <th>PITCH_TYPE</th>\n",
       "      <th>PITCH_NAME</th>\n",
       "      <th>PLAYER_NAME</th>\n",
       "      <th>BATTER_ID</th>\n",
       "      <th>PITCHER_ID</th>\n",
       "      <th>BAT_SIDE</th>\n",
       "      <th>THROW_SIDE</th>\n",
       "      <th>GAME_PK</th>\n",
       "      <th>GAME_YEAR</th>\n",
       "      <th>GAME_DATE</th>\n",
       "      <th>...</th>\n",
       "      <th>HOME_SCORE</th>\n",
       "      <th>AWAY_SCORE</th>\n",
       "      <th>BAT_SCORE</th>\n",
       "      <th>FLD_SCORE</th>\n",
       "      <th>POST_AWAY_SCORE</th>\n",
       "      <th>POST_HOME_SCORE</th>\n",
       "      <th>POST_BAT_SCORE</th>\n",
       "      <th>POST_FLD_SCORE</th>\n",
       "      <th>DELTA_HOME_WIN_EXP</th>\n",
       "      <th>DELTA_RUN_EXP</th>\n",
       "    </tr>\n",
       "  </thead>\n",
       "  <tbody>\n",
       "    <tr>\n",
       "      <th>0</th>\n",
       "      <td>FF</td>\n",
       "      <td>4-Seam Fastball</td>\n",
       "      <td>Betts, Mookie</td>\n",
       "      <td>605141</td>\n",
       "      <td>608566</td>\n",
       "      <td>R</td>\n",
       "      <td>R</td>\n",
       "      <td>634615</td>\n",
       "      <td>2021</td>\n",
       "      <td>2021-04-01</td>\n",
       "      <td>...</td>\n",
       "      <td>0</td>\n",
       "      <td>0</td>\n",
       "      <td>0</td>\n",
       "      <td>0</td>\n",
       "      <td>0</td>\n",
       "      <td>0</td>\n",
       "      <td>0</td>\n",
       "      <td>0</td>\n",
       "      <td>0.0</td>\n",
       "      <td>0.038</td>\n",
       "    </tr>\n",
       "    <tr>\n",
       "      <th>1</th>\n",
       "      <td>FF</td>\n",
       "      <td>4-Seam Fastball</td>\n",
       "      <td>Betts, Mookie</td>\n",
       "      <td>605141</td>\n",
       "      <td>608566</td>\n",
       "      <td>R</td>\n",
       "      <td>R</td>\n",
       "      <td>634615</td>\n",
       "      <td>2021</td>\n",
       "      <td>2021-04-01</td>\n",
       "      <td>...</td>\n",
       "      <td>0</td>\n",
       "      <td>0</td>\n",
       "      <td>0</td>\n",
       "      <td>0</td>\n",
       "      <td>0</td>\n",
       "      <td>0</td>\n",
       "      <td>0</td>\n",
       "      <td>0</td>\n",
       "      <td>0.0</td>\n",
       "      <td>-0.049</td>\n",
       "    </tr>\n",
       "    <tr>\n",
       "      <th>2</th>\n",
       "      <td>FF</td>\n",
       "      <td>4-Seam Fastball</td>\n",
       "      <td>Betts, Mookie</td>\n",
       "      <td>605141</td>\n",
       "      <td>608566</td>\n",
       "      <td>R</td>\n",
       "      <td>R</td>\n",
       "      <td>634615</td>\n",
       "      <td>2021</td>\n",
       "      <td>2021-04-01</td>\n",
       "      <td>...</td>\n",
       "      <td>0</td>\n",
       "      <td>0</td>\n",
       "      <td>0</td>\n",
       "      <td>0</td>\n",
       "      <td>0</td>\n",
       "      <td>0</td>\n",
       "      <td>0</td>\n",
       "      <td>0</td>\n",
       "      <td>0.0</td>\n",
       "      <td>0.052</td>\n",
       "    </tr>\n",
       "    <tr>\n",
       "      <th>3</th>\n",
       "      <td>FF</td>\n",
       "      <td>4-Seam Fastball</td>\n",
       "      <td>Betts, Mookie</td>\n",
       "      <td>605141</td>\n",
       "      <td>608566</td>\n",
       "      <td>R</td>\n",
       "      <td>R</td>\n",
       "      <td>634615</td>\n",
       "      <td>2021</td>\n",
       "      <td>2021-04-01</td>\n",
       "      <td>...</td>\n",
       "      <td>0</td>\n",
       "      <td>0</td>\n",
       "      <td>0</td>\n",
       "      <td>0</td>\n",
       "      <td>0</td>\n",
       "      <td>0</td>\n",
       "      <td>0</td>\n",
       "      <td>0</td>\n",
       "      <td>0.0</td>\n",
       "      <td>0.113</td>\n",
       "    </tr>\n",
       "    <tr>\n",
       "      <th>4</th>\n",
       "      <td>FF</td>\n",
       "      <td>4-Seam Fastball</td>\n",
       "      <td>Betts, Mookie</td>\n",
       "      <td>605141</td>\n",
       "      <td>608566</td>\n",
       "      <td>R</td>\n",
       "      <td>R</td>\n",
       "      <td>634615</td>\n",
       "      <td>2021</td>\n",
       "      <td>2021-04-01</td>\n",
       "      <td>...</td>\n",
       "      <td>0</td>\n",
       "      <td>0</td>\n",
       "      <td>0</td>\n",
       "      <td>0</td>\n",
       "      <td>0</td>\n",
       "      <td>0</td>\n",
       "      <td>0</td>\n",
       "      <td>0</td>\n",
       "      <td>0.0</td>\n",
       "      <td>-0.077</td>\n",
       "    </tr>\n",
       "  </tbody>\n",
       "</table>\n",
       "<p>5 rows × 56 columns</p>\n",
       "</div>"
      ],
      "text/plain": [
       "  PITCH_TYPE       PITCH_NAME    PLAYER_NAME  BATTER_ID  PITCHER_ID BAT_SIDE  \\\n",
       "0         FF  4-Seam Fastball  Betts, Mookie     605141      608566        R   \n",
       "1         FF  4-Seam Fastball  Betts, Mookie     605141      608566        R   \n",
       "2         FF  4-Seam Fastball  Betts, Mookie     605141      608566        R   \n",
       "3         FF  4-Seam Fastball  Betts, Mookie     605141      608566        R   \n",
       "4         FF  4-Seam Fastball  Betts, Mookie     605141      608566        R   \n",
       "\n",
       "  THROW_SIDE  GAME_PK  GAME_YEAR   GAME_DATE  ... HOME_SCORE AWAY_SCORE  \\\n",
       "0          R   634615       2021  2021-04-01  ...          0          0   \n",
       "1          R   634615       2021  2021-04-01  ...          0          0   \n",
       "2          R   634615       2021  2021-04-01  ...          0          0   \n",
       "3          R   634615       2021  2021-04-01  ...          0          0   \n",
       "4          R   634615       2021  2021-04-01  ...          0          0   \n",
       "\n",
       "   BAT_SCORE FLD_SCORE  POST_AWAY_SCORE  POST_HOME_SCORE  POST_BAT_SCORE  \\\n",
       "0          0         0                0                0               0   \n",
       "1          0         0                0                0               0   \n",
       "2          0         0                0                0               0   \n",
       "3          0         0                0                0               0   \n",
       "4          0         0                0                0               0   \n",
       "\n",
       "   POST_FLD_SCORE  DELTA_HOME_WIN_EXP  DELTA_RUN_EXP  \n",
       "0               0                 0.0          0.038  \n",
       "1               0                 0.0         -0.049  \n",
       "2               0                 0.0          0.052  \n",
       "3               0                 0.0          0.113  \n",
       "4               0                 0.0         -0.077  \n",
       "\n",
       "[5 rows x 56 columns]"
      ]
     },
     "execution_count": 3,
     "metadata": {},
     "output_type": "execute_result"
    }
   ],
   "source": [
    "df.head()"
   ]
  },
  {
   "cell_type": "markdown",
   "id": "1dd5fc3b",
   "metadata": {},
   "source": [
    "<a id='section1'></a>\n",
    "# Data Processing / Feature Engineering\n",
    "The first step is to aggregate the data on the player and season level. This includes getting the percentage of pitch types that the batter sees in each year, but also computing various statistics. The code cells below walk through the steps I took to compute each of these values and save them in a dataframe. "
   ]
  },
  {
   "cell_type": "code",
   "execution_count": 4,
   "id": "84d5e078",
   "metadata": {},
   "outputs": [],
   "source": [
    "# create map to classify pitches as fastballs, offspeed, or breaking pitches\n",
    "pitch_map = {'FF':'FB', 'SI':'FB', 'FC':'FB', \n",
    "             'CH':'OS', 'FS':'OS', 'FO':'OS', 'SC':'OS',\n",
    "             'CU':'BB', 'KC':'BB', 'CS':'BB', 'SL':'BB', 'ST':'BB',  'SV':'BB', 'KN':'BB'}\n",
    "\n",
    "# create new column with pitch classification\n",
    "df['PITCH_CLASS'] = df['PITCH_TYPE'].map(pitch_map)"
   ]
  },
  {
   "cell_type": "code",
   "execution_count": 5,
   "id": "94a1888a",
   "metadata": {},
   "outputs": [],
   "source": [
    "# create binary variables for whether the batter swings, whether the batter whiffs, and whether the pitch was in the strike zone\n",
    "df['SWING'] = np.where(df['DESCRIPTION'].isin(['foul', 'hit_into_play', 'swinging_strike', 'swinging_strike_blocked', 'foul_tip']), 1, 0)\n",
    "df['WHIFF'] = np.where(df['DESCRIPTION'].isin(['swinging_strike', 'swinging_strike_blocked', 'foul_tip']), 1, 0)\n",
    "df['STRIKE'] = np.where((df['PLATE_X'] <= 0.83) & (df['PLATE_X'] >= -0.83) & (df['PLATE_Z'] <= df['SZ_TOP']) & (df['PLATE_Z'] >= df['SZ_BOT']), 1, 0)"
   ]
  },
  {
   "cell_type": "code",
   "execution_count": 6,
   "id": "7beafa9f",
   "metadata": {},
   "outputs": [],
   "source": [
    "# group hitters by batting handedness\n",
    "bat_sides = df.groupby(['BATTER_ID', 'BAT_SIDE']).size().reset_index().groupby(['BATTER_ID'])['BAT_SIDE'].count().reset_index()\n",
    "\n",
    "# if hitter appears as both RHH and LHH, classifies them as switch hitter\n",
    "bat_sides.loc[bat_sides['BAT_SIDE']==1, 'BAT_SIDE'] = np.nan\n",
    "bat_sides.loc[bat_sides['BAT_SIDE']==2, 'BAT_SIDE'] = 'S'\n",
    "\n",
    "# add the hitter handedness information to original dataframe\n",
    "df = df.merge(bat_sides.rename(columns={'BAT_SIDE':'hits'}), on=['BATTER_ID'])\n",
    "\n",
    "# if the hitter is not a switch hitter, just use their BAT_SIDE value\n",
    "df['hits'] = np.where(df['hits'].isna(), df['BAT_SIDE'], df['hits'])"
   ]
  },
  {
   "cell_type": "code",
   "execution_count": 7,
   "id": "2a39c1d5",
   "metadata": {},
   "outputs": [],
   "source": [
    "# groups the data by batter and by year\n",
    "\n",
    "# gets the number of pitches seen by the batter\n",
    "pitch_mix_df = df.groupby(['BATTER_ID', 'GAME_YEAR'])['PITCH_CLASS'].count().reset_index().rename(columns={'PITCH_CLASS':'Pitches_seen'})\n",
    "\n",
    "# gets the batter's swing rate\n",
    "swing_rates_df = df.groupby(['BATTER_ID', 'GAME_YEAR'])['SWING'].mean().reset_index().rename(columns={'SWING':'swing%'})\n",
    "\n",
    "# gets the whiff rate of the batter\n",
    "whiff_rates_df = df.loc[df['SWING']==1].groupby(['BATTER_ID', 'GAME_YEAR'])['WHIFF'].mean().reset_index().rename(columns={'WHIFF':'whiff%'})\n",
    "\n",
    "# gets the batter's o-swing rate\n",
    "oswing_df = df.loc[df['STRIKE']==0].groupby(['BATTER_ID', 'GAME_YEAR'])['SWING'].mean().reset_index().rename(columns={'SWING':'oswing%'})\n",
    "\n",
    "# gets the batter's z-swing rate\n",
    "zswing_df = df.loc[df['STRIKE']==1].groupby(['BATTER_ID', 'GAME_YEAR'])['SWING'].mean().reset_index().rename(columns={'SWING':'zswing%'})\n",
    "\n",
    "# gets the batter's woba\n",
    "woba_df = df.groupby(['BATTER_ID', 'GAME_YEAR'])[['WOBA_VALUE', 'WOBA_DENOM']].sum().reset_index()\n",
    "woba_df['woba'] = woba_df['WOBA_VALUE'] / woba_df['WOBA_DENOM']\n",
    "woba_df = woba_df[['BATTER_ID', 'GAME_YEAR', 'woba']]"
   ]
  },
  {
   "cell_type": "code",
   "execution_count": 8,
   "id": "fbec128a",
   "metadata": {},
   "outputs": [],
   "source": [
    "# gets the same stats as above, but for individual pitch classes and adds them to the original dataframes\n",
    "\n",
    "# iterate through ecah pitch class\n",
    "for pitch in ['FB', 'OS', 'BB']:\n",
    "    \n",
    "    # get the number and percentage of all pitches seen by the batter of the current pitch class\n",
    "    temp_pitch_mix_df = df.loc[df['PITCH_CLASS']==pitch].groupby(['BATTER_ID', 'GAME_YEAR'])['PITCH_CLASS'].count().reset_index().rename(columns={'PITCH_CLASS':f'{pitch}_seen'})\n",
    "    pitch_mix_df = pd.merge(pitch_mix_df, temp_pitch_mix_df, on=['BATTER_ID', 'GAME_YEAR'], how='inner')  \n",
    "    pitch_mix_df[f'{pitch}%'] = pitch_mix_df[f'{pitch}_seen'] / pitch_mix_df['Pitches_seen']\n",
    "    \n",
    "    # get the batter's swing rate on the current pitch class\n",
    "    temp_swing_rates_df = df.loc[df['PITCH_CLASS']==pitch].groupby(['BATTER_ID', 'GAME_YEAR'])['SWING'].mean().reset_index().rename(columns={'SWING':f'{pitch}_swing%'})\n",
    "    swing_rates_df = pd.merge(swing_rates_df, temp_swing_rates_df, on=['BATTER_ID', 'GAME_YEAR'], how='inner') \n",
    "\n",
    "    # get the batter's whiff rate on the current pitch class\n",
    "    temp_whiff_rates_df = df.loc[(df['PITCH_CLASS']==pitch) & (df['SWING']==1)].groupby(['BATTER_ID', 'GAME_YEAR'])['WHIFF'].mean().reset_index().rename(columns={'WHIFF':f'{pitch}_whiff%'})\n",
    "    whiff_rates_df = pd.merge(whiff_rates_df, temp_whiff_rates_df, on=['BATTER_ID', 'GAME_YEAR'], how='inner') \n",
    "\n",
    "    # get the batter's o-swing rate on the current pitch class\n",
    "    temp_oswing_df = df.loc[(df['PITCH_CLASS']==pitch) & (df['STRIKE']==0)].groupby(['BATTER_ID', 'GAME_YEAR'])['SWING'].mean().reset_index().rename(columns={'SWING':f'{pitch}_oswing%'})\n",
    "    oswing_df = pd.merge(oswing_df, temp_oswing_df, on=['BATTER_ID', 'GAME_YEAR'], how='inner') \n",
    "    \n",
    "    # get the batter's z-swing rate on the current pitch class\n",
    "    temp_zswing_df = df.loc[(df['PITCH_CLASS']==pitch) & (df['STRIKE']==1)].groupby(['BATTER_ID', 'GAME_YEAR'])['SWING'].mean().reset_index().rename(columns={'SWING':f'{pitch}_zswing%'})\n",
    "    zswing_df = pd.merge(zswing_df, temp_zswing_df, on=['BATTER_ID', 'GAME_YEAR'], how='inner') \n",
    "\n",
    "    # get the batter's woba on the current pitch class\n",
    "    temp_woba_df = df.loc[df['PITCH_CLASS']==pitch].groupby(['BATTER_ID', 'GAME_YEAR'])[['WOBA_VALUE', 'WOBA_DENOM']].sum().reset_index()\n",
    "    temp_woba_df[f'{pitch}_woba'] = temp_woba_df['WOBA_VALUE'] / temp_woba_df['WOBA_DENOM']\n",
    "    woba_df = pd.merge(woba_df, temp_woba_df[['BATTER_ID', 'GAME_YEAR', f'{pitch}_woba']], on=['BATTER_ID', 'GAME_YEAR'], how='inner') "
   ]
  },
  {
   "cell_type": "code",
   "execution_count": 9,
   "id": "a0e2e67f",
   "metadata": {},
   "outputs": [],
   "source": [
    "# add all the individual stat dataframes together\n",
    "\n",
    "# create copy of first dataframe\n",
    "stats_df = pitch_mix_df.copy()\n",
    "\n",
    "# merge each dataframe on the batter and year\n",
    "for temp_df in [swing_rates_df, whiff_rates_df, oswing_df, zswing_df, woba_df]:\n",
    "    stats_df = pd.merge(stats_df, temp_df, on=['BATTER_ID', 'GAME_YEAR'], how='inner')  \n",
    "    \n",
    "# get the batter handedness from the original df\n",
    "stats_df = stats_df.merge(df[['BATTER_ID', 'hits']].drop_duplicates(), on='BATTER_ID', how='left')\n",
    "\n",
    "# remove unnecessary columns\n",
    "stats_df = stats_df.drop(columns=['FB_seen', 'OS_seen', 'BB_seen'])\n",
    "\n",
    "# creates marker for what the previous year was\n",
    "stats_df['prev_year'] = stats_df['GAME_YEAR'] - 1"
   ]
  },
  {
   "cell_type": "code",
   "execution_count": 10,
   "id": "c416ecdb",
   "metadata": {},
   "outputs": [],
   "source": [
    "# combine the outcome variables (percentages) of the stats dataframe with the stats from the previous year\n",
    "stats_prev = stats_df[['BATTER_ID', 'prev_year', 'Pitches_seen', 'FB%', 'OS%', 'BB%']].merge(\n",
    "    stats_df.drop(columns=['prev_year']).rename(columns={col:'prev_'+col for col in stats_df.columns[2:-2]}), \n",
    "    left_on=['prev_year', 'BATTER_ID'],\n",
    "    right_on=['GAME_YEAR', 'BATTER_ID']\n",
    ")"
   ]
  },
  {
   "cell_type": "markdown",
   "id": "64881197",
   "metadata": {},
   "source": [
    "<a id='subsection1'></a>\n",
    "## Data Inspection\n",
    "After calculating all the statistics, I then plotted each to understand the distributions between each. While I could have also looked at interactions between features, for the sake of space and time I did not include those plots here. "
   ]
  },
  {
   "cell_type": "markdown",
   "id": "5a4e017b",
   "metadata": {},
   "source": [
    "### Pitch Distributions"
   ]
  },
  {
   "cell_type": "code",
   "execution_count": 11,
   "id": "48a1ef5f",
   "metadata": {},
   "outputs": [
    {
     "data": {
      "image/png": "[encoded data removed]",
      "text/plain": [
       "<Figure size 1000x300 with 3 Axes>"
      ]
     },
     "metadata": {},
     "output_type": "display_data"
    }
   ],
   "source": [
    "fig, ax = plt.subplots(1, 3, figsize=(10, 3))\n",
    "sns.histplot(stats_prev['prev_FB%'], ax=ax[0])\n",
    "ax[0].set_xlabel('Fastball%')\n",
    "\n",
    "sns.histplot(stats_prev['prev_OS%'], ax=ax[1])\n",
    "ax[1].set_xlabel('Offspeed%')\n",
    "\n",
    "sns.histplot(stats_prev['prev_BB%'], ax=ax[2])\n",
    "ax[2].set_xlabel('Breaking%')\n",
    "\n",
    "fig.tight_layout()\n",
    "\n",
    "plt.show()"
   ]
  },
  {
   "cell_type": "markdown",
   "id": "b61b6ce9",
   "metadata": {},
   "source": [
    "### Swing Rates"
   ]
  },
  {
   "cell_type": "code",
   "execution_count": 12,
   "id": "38fefe18",
   "metadata": {},
   "outputs": [
    {
     "data": {
      "image/png": "[encoded data removed]",
      "text/plain": [
       "<Figure size 1200x300 with 4 Axes>"
      ]
     },
     "metadata": {},
     "output_type": "display_data"
    }
   ],
   "source": [
    "fig, ax = plt.subplots(1, 4, figsize=(12, 3))\n",
    "\n",
    "sns.histplot(stats_prev['prev_swing%'], ax=ax[0])\n",
    "ax[0].set_xlabel('Swing%')\n",
    "\n",
    "sns.histplot(stats_prev['prev_FB_swing%'], ax=ax[1])\n",
    "ax[1].set_xlabel('Fastball Swing%')\n",
    "\n",
    "sns.histplot(stats_prev['prev_OS_swing%'], ax=ax[2])\n",
    "ax[2].set_xlabel('Offspeed Swing%')\n",
    "\n",
    "sns.histplot(stats_prev['prev_BB_swing%'], ax=ax[3])\n",
    "ax[3].set_xlabel('Breaking Swing%')\n",
    "\n",
    "fig.tight_layout()\n",
    "\n",
    "plt.show()"
   ]
  },
  {
   "cell_type": "markdown",
   "id": "15a047a4",
   "metadata": {},
   "source": [
    "### Whiff Rates"
   ]
  },
  {
   "cell_type": "code",
   "execution_count": 13,
   "id": "62f95ea6",
   "metadata": {},
   "outputs": [
    {
     "data": {
      "image/png": "[encoded data removed]",
      "text/plain": [
       "<Figure size 1200x300 with 4 Axes>"
      ]
     },
     "metadata": {},
     "output_type": "display_data"
    }
   ],
   "source": [
    "fig, ax = plt.subplots(1, 4, figsize=(12, 3))\n",
    "\n",
    "sns.histplot(stats_prev['prev_whiff%'], ax=ax[0])\n",
    "ax[0].set_xlabel('Whiff%')\n",
    "\n",
    "sns.histplot(stats_prev['prev_FB_whiff%'], ax=ax[1])\n",
    "ax[1].set_xlabel('Fastball Whiff%')\n",
    "\n",
    "sns.histplot(stats_prev['prev_OS_whiff%'], ax=ax[2])\n",
    "ax[2].set_xlabel('Offspeed Whiff%')\n",
    "\n",
    "sns.histplot(stats_prev['prev_BB_whiff%'], ax=ax[3])\n",
    "ax[3].set_xlabel('Breaking Whiff%')\n",
    "\n",
    "fig.tight_layout()\n",
    "\n",
    "plt.show()"
   ]
  },
  {
   "cell_type": "markdown",
   "id": "533f0150",
   "metadata": {},
   "source": [
    "### O-Swing Rates"
   ]
  },
  {
   "cell_type": "code",
   "execution_count": 14,
   "id": "d5368220",
   "metadata": {},
   "outputs": [
    {
     "data": {
      "image/png": "[encoded data removed]",
      "text/plain": [
       "<Figure size 1200x300 with 4 Axes>"
      ]
     },
     "metadata": {},
     "output_type": "display_data"
    }
   ],
   "source": [
    "fig, ax = plt.subplots(1, 4, figsize=(12, 3))\n",
    "\n",
    "sns.histplot(stats_prev['prev_oswing%'], ax=ax[0])\n",
    "ax[0].set_xlabel('O-Swing%')\n",
    "\n",
    "sns.histplot(stats_prev['prev_FB_oswing%'], ax=ax[1])\n",
    "ax[1].set_xlabel('Fastball O-Swing%')\n",
    "\n",
    "sns.histplot(stats_prev['prev_OS_oswing%'], ax=ax[2])\n",
    "ax[2].set_xlabel('Offspeed O-Swing%')\n",
    "\n",
    "sns.histplot(stats_prev['prev_BB_oswing%'], ax=ax[3])\n",
    "ax[3].set_xlabel('Breaking O-Swing%')\n",
    "\n",
    "fig.tight_layout()\n",
    "\n",
    "plt.show()"
   ]
  },
  {
   "cell_type": "markdown",
   "id": "5f3d356d",
   "metadata": {},
   "source": [
    "### Z-Swing Rates"
   ]
  },
  {
   "cell_type": "code",
   "execution_count": 15,
   "id": "a9a2c760",
   "metadata": {},
   "outputs": [
    {
     "data": {
      "image/png": "[encoded data removed]",
      "text/plain": [
       "<Figure size 1200x300 with 4 Axes>"
      ]
     },
     "metadata": {},
     "output_type": "display_data"
    }
   ],
   "source": [
    "fig, ax = plt.subplots(1, 4, figsize=(12, 3))\n",
    "\n",
    "sns.histplot(stats_prev['prev_zswing%'], ax=ax[0])\n",
    "ax[0].set_xlabel('Z-Swing%')\n",
    "\n",
    "sns.histplot(stats_prev['prev_FB_zswing%'], ax=ax[1])\n",
    "ax[1].set_xlabel('Fastball Z-Swing%')\n",
    "\n",
    "sns.histplot(stats_prev['prev_OS_zswing%'], ax=ax[2])\n",
    "ax[2].set_xlabel('Offspeed Z-Swing%')\n",
    "\n",
    "sns.histplot(stats_prev['prev_BB_zswing%'], ax=ax[3])\n",
    "ax[3].set_xlabel('Breaking Z-Swing%')\n",
    "\n",
    "fig.tight_layout()\n",
    "\n",
    "plt.show()"
   ]
  },
  {
   "cell_type": "markdown",
   "id": "4b3190e6",
   "metadata": {},
   "source": [
    "### wOBAs"
   ]
  },
  {
   "cell_type": "code",
   "execution_count": 16,
   "id": "b5dbe773",
   "metadata": {},
   "outputs": [
    {
     "data": {
      "image/png": "[encoded data removed]",
      "text/plain": [
       "<Figure size 1200x300 with 4 Axes>"
      ]
     },
     "metadata": {},
     "output_type": "display_data"
    }
   ],
   "source": [
    "fig, ax = plt.subplots(1, 4, figsize=(12, 3))\n",
    "\n",
    "sns.histplot(stats_prev['prev_woba'], ax=ax[0])\n",
    "ax[0].set_xlabel('wOBA')\n",
    "\n",
    "sns.histplot(stats_prev['prev_FB_woba'], ax=ax[1])\n",
    "ax[1].set_xlabel('Fastball wOBA')\n",
    "\n",
    "sns.histplot(stats_prev['prev_OS_woba'], ax=ax[2])\n",
    "ax[2].set_xlabel('Offspeed wOBA')\n",
    "\n",
    "sns.histplot(stats_prev['prev_BB_woba'], ax=ax[3])\n",
    "ax[3].set_xlabel('Breaking wOBA')\n",
    "\n",
    "fig.tight_layout()\n",
    "\n",
    "plt.show()"
   ]
  },
  {
   "cell_type": "markdown",
   "id": "bad1966e",
   "metadata": {},
   "source": [
    "<a id='subsection2'></a>\n",
    "## Data Cleaning\n",
    "The distributions above look approximately normal, so there is not much data cleaning that needs to be done. However, there were a few outliers, that I presume are due to the player only seeing a small number of pitches. For this reason, I will filter to only include players that saw 100 pitches over the course of their season. The code to do that is shown below. "
   ]
  },
  {
   "cell_type": "code",
   "execution_count": 17,
   "id": "540df03f",
   "metadata": {},
   "outputs": [],
   "source": [
    "# remove rows with less than 100 pitches seen\n",
    "stats_prev = stats_prev.loc[stats_prev['Pitches_seen']>100]\n",
    "stats_prev = stats_prev.loc[stats_prev['prev_Pitches_seen']>100]"
   ]
  },
  {
   "cell_type": "code",
   "execution_count": 18,
   "id": "85942e38",
   "metadata": {},
   "outputs": [],
   "source": [
    "# remove unnecessary columns\n",
    "stats_prev.drop(columns=['Pitches_seen', 'prev_Pitches_seen'], axis=1, inplace=True)"
   ]
  },
  {
   "cell_type": "markdown",
   "id": "7bdb9f09",
   "metadata": {},
   "source": [
    "<a id='section2'></a>\n",
    "# Model Creation\n",
    "After I have cleaned data, I now create and tune the models. Using the features defined below, each model is first trained with default hyperparameters and evaluated. The models are then put through three steps of hyperparameter tuning, in which different parameters are tuned each time. Finally, the model is re-evaluated using the best found parameters from the hyperparameter tuning steps. A final model is then trained on the entire data set, which will be used to generate the predictions. \n",
    "\n",
    "### Table of Contents\n",
    "- [Fastball% Model](#fastball-tuning)\n",
    "- [Offspeed% Model](#offspeed-tuning)\n",
    "- [Breaking% Model](#breaking-tuning)"
   ]
  },
  {
   "cell_type": "code",
   "execution_count": 19,
   "id": "44b6d381",
   "metadata": {},
   "outputs": [],
   "source": [
    "FB_feats = ['prev_FB%', 'prev_swing%', 'prev_whiff%', 'prev_oswing%', 'prev_zswing%', 'prev_woba', \n",
    "            'prev_FB_swing%', 'prev_FB_whiff%', 'prev_FB_oswing%', 'prev_FB_zswing%', 'prev_FB_woba',\n",
    "            'hits']\n",
    "\n",
    "OS_feats = ['prev_OS%', 'prev_swing%', 'prev_whiff%', 'prev_oswing%', 'prev_zswing%', 'prev_woba', \n",
    "            'prev_OS_swing%', 'prev_OS_whiff%', 'prev_OS_oswing%', 'prev_OS_zswing%', 'prev_OS_woba',\n",
    "            'hits']\n",
    "\n",
    "BB_feats = ['prev_BB%', 'prev_swing%', 'prev_whiff%', 'prev_oswing%', 'prev_zswing%', 'prev_woba', \n",
    "            'prev_BB_swing%', 'prev_BB_whiff%', 'prev_BB_oswing%', 'prev_BB_zswing%', 'prev_BB_woba',\n",
    "            'hits']"
   ]
  },
  {
   "cell_type": "markdown",
   "id": "faae8657",
   "metadata": {},
   "source": [
    "<a id='fastball-tuning'></a>\n",
    "## Fastball% Model"
   ]
  },
  {
   "cell_type": "markdown",
   "id": "c1ede30a",
   "metadata": {},
   "source": [
    "### Default Model"
   ]
  },
  {
   "cell_type": "code",
   "execution_count": 20,
   "id": "5b594e2b",
   "metadata": {},
   "outputs": [
    {
     "name": "stdout",
     "output_type": "stream",
     "text": [
      "-----FB-----\n",
      "R2 Score: 0.3472\n",
      "RMSE: 0.0308\n"
     ]
    }
   ],
   "source": [
    "# split data into input and output sets\n",
    "X = stats_prev[FB_feats]\n",
    "y = stats_prev['FB%']\n",
    "\n",
    "# convert hits into hits_R, hits_L, and hits_S\n",
    "X = pd.get_dummies(X, dtype=int)\n",
    "\n",
    "# get training and testing splits\n",
    "X_train, X_test, y_train, y_test = train_test_split(X, y, random_state=42)\n",
    "\n",
    "# create and fit model with default parameters\n",
    "xgb_fb = XGBRegressor(random_state=42)\n",
    "xgb_fb.fit(X_train, y_train)\n",
    "\n",
    "# get predictions for test set\n",
    "FB_preds = xgb_fb.predict(X_test)\n",
    "\n",
    "# print R2 and RMSE\n",
    "print('-----FB-----')\n",
    "print(f\"R2 Score: {r2_score(y_test, FB_preds):.4f}\")\n",
    "print(f\"RMSE: {root_mean_squared_error(y_test, FB_preds):.4f}\")"
   ]
  },
  {
   "cell_type": "markdown",
   "id": "08f65135",
   "metadata": {},
   "source": [
    "### Hyperparameter Tuning"
   ]
  },
  {
   "cell_type": "code",
   "execution_count": 21,
   "id": "c34a7267",
   "metadata": {},
   "outputs": [],
   "source": [
    "# create function to to hyperparameter tuning using grid search given a parameter grid and existing parameters\n",
    "def tune_fb_hyperparameters(param_grid, existing_params):\n",
    "    \n",
    "    # add random state to parameters list\n",
    "    existing_params['random_state'] = 42\n",
    "    \n",
    "    # split data into input and output sets\n",
    "    X = pd.get_dummies(stats_prev[FB_feats], dtype=int)\n",
    "    y = stats_prev['FB%']\n",
    "    \n",
    "    # create training and testing splits\n",
    "    X_train, X_test, y_train, y_test = train_test_split(X, y, random_state=42)\n",
    "    \n",
    "    # create model with existing parameters\n",
    "    xgb_fb = XGBRegressor(**existing_params)\n",
    "    \n",
    "    # define and run grid search on training data\n",
    "    grid_search = GridSearchCV(\n",
    "        estimator=xgb_fb,\n",
    "        param_grid=param_grid,\n",
    "        scoring='neg_root_mean_squared_error',\n",
    "        cv=5,  \n",
    "        n_jobs=-1 \n",
    "    )\n",
    "    grid_search.fit(X_train, y_train)\n",
    "\n",
    "    # print the best parameters and the best score achieved\n",
    "    print(f\"Best parameters: {grid_search.best_params_}\")\n",
    "    print(f\"Best cross-validation RMSE: {-grid_search.best_score_:.4f}\")\n",
    "    \n",
    "    # return the best parameters\n",
    "    return grid_search.best_params_"
   ]
  },
  {
   "cell_type": "markdown",
   "id": "6054c1d8",
   "metadata": {},
   "source": [
    "#### Tuning `n_estimators` and `learning_rate`"
   ]
  },
  {
   "cell_type": "code",
   "execution_count": 22,
   "id": "ee6d580c",
   "metadata": {},
   "outputs": [
    {
     "name": "stdout",
     "output_type": "stream",
     "text": [
      "Best parameters: {'learning_rate': 0.1, 'n_estimators': 100}\n",
      "Best cross-validation RMSE: 0.0326\n"
     ]
    }
   ],
   "source": [
    "# define possible values for n_estimators and learning_rate\n",
    "param_grid = {\n",
    "    'n_estimators': [100, 150, 200, 250, 300],\n",
    "    'learning_rate': [0.005, 0.01, 0.05, 0.1, 0.2]\n",
    "}\n",
    "\n",
    "# no existing parameters\n",
    "existing_params = {}\n",
    "\n",
    "# run hyperparameter tuning and get best parameters\n",
    "grid_search_1_params = tune_fb_hyperparameters(param_grid, existing_params)"
   ]
  },
  {
   "cell_type": "markdown",
   "id": "0754d5be",
   "metadata": {},
   "source": [
    "#### Tuning `max_depth` and `min_child_weight`"
   ]
  },
  {
   "cell_type": "code",
   "execution_count": 23,
   "id": "6eb0096d",
   "metadata": {},
   "outputs": [
    {
     "name": "stdout",
     "output_type": "stream",
     "text": [
      "Best parameters: {'max_depth': 7, 'min_child_weight': 13}\n",
      "Best cross-validation RMSE: 0.0306\n"
     ]
    }
   ],
   "source": [
    "# define possible values for max_depth and min_child_weight\n",
    "param_grid = {\n",
    "    'max_depth': [3, 4, 5, 6, 7],\n",
    "    'min_child_weight': [5, 7, 9, 11, 13] \n",
    "}\n",
    "\n",
    "# use best parameters found from first grid search\n",
    "existing_params = grid_search_1_params\n",
    "\n",
    "# run hyperparameter tuning and get best parameters\n",
    "grid_search_2_params = tune_fb_hyperparameters(param_grid, existing_params)"
   ]
  },
  {
   "cell_type": "markdown",
   "id": "532f1e9c",
   "metadata": {},
   "source": [
    "#### Tuning `gamma`"
   ]
  },
  {
   "cell_type": "code",
   "execution_count": 24,
   "id": "53c8dbf0",
   "metadata": {},
   "outputs": [
    {
     "name": "stdout",
     "output_type": "stream",
     "text": [
      "Best parameters: {'gamma': 0}\n",
      "Best cross-validation RMSE: 0.0306\n"
     ]
    }
   ],
   "source": [
    "# define possible values for gamma\n",
    "param_grid = {\n",
    "    'gamma': [0, 0.1, 0.2, 0.5, 1, 2, 5] \n",
    "}\n",
    "\n",
    "# use best parameters found from first and secon grid searches\n",
    "existing_params = grid_search_1_params | grid_search_2_params\n",
    "\n",
    "# run hyperparameter tuning and get best parameters\n",
    "grid_search_3_params = tune_fb_hyperparameters(param_grid, existing_params)"
   ]
  },
  {
   "cell_type": "markdown",
   "id": "c6bd1e4f",
   "metadata": {},
   "source": [
    "### Final Tuned Model"
   ]
  },
  {
   "cell_type": "code",
   "execution_count": 25,
   "id": "a9bf7bbc",
   "metadata": {},
   "outputs": [
    {
     "name": "stdout",
     "output_type": "stream",
     "text": [
      "-----FB-----\n",
      "R2 Score: 0.4222\n",
      "RMSE: 0.0290\n"
     ]
    }
   ],
   "source": [
    "# split data into input and output sets\n",
    "X = stats_prev[FB_feats]\n",
    "y = stats_prev['FB%']\n",
    "\n",
    "# convert hits into hits_R, hits_L, and hits_S\n",
    "X = pd.get_dummies(X, dtype=int)\n",
    "\n",
    "# get training and testing splits\n",
    "X_train, X_test, y_train, y_test = train_test_split(X, y, random_state=42)\n",
    "\n",
    "# get optimal parameters from the grid searches\n",
    "best_params = grid_search_1_params | grid_search_2_params | grid_search_3_params\n",
    "\n",
    "# create and fit model with default parameters\n",
    "xgb_fb = XGBRegressor(**best_params)\n",
    "xgb_fb.fit(X_train, y_train)\n",
    "\n",
    "# get predictions for test set\n",
    "FB_preds = xgb_fb.predict(X_test)\n",
    "\n",
    "# print R2 and RMSE\n",
    "print('-----FB-----')\n",
    "print(f\"R2 Score: {r2_score(y_test, FB_preds):.4f}\")\n",
    "print(f\"RMSE: {root_mean_squared_error(y_test, FB_preds):.4f}\")"
   ]
  },
  {
   "cell_type": "code",
   "execution_count": 26,
   "id": "59140910",
   "metadata": {},
   "outputs": [
    {
     "data": {
      "text/html": [
       "<style>#sk-container-id-1 {\n",
       "  /* Definition of color scheme common for light and dark mode */\n",
       "  --sklearn-color-text: black;\n",
       "  --sklearn-color-line: gray;\n",
       "  /* Definition of color scheme for unfitted estimators */\n",
       "  --sklearn-color-unfitted-level-0: #fff5e6;\n",
       "  --sklearn-color-unfitted-level-1: #f6e4d2;\n",
       "  --sklearn-color-unfitted-level-2: #ffe0b3;\n",
       "  --sklearn-color-unfitted-level-3: chocolate;\n",
       "  /* Definition of color scheme for fitted estimators */\n",
       "  --sklearn-color-fitted-level-0: #f0f8ff;\n",
       "  --sklearn-color-fitted-level-1: #d4ebff;\n",
       "  --sklearn-color-fitted-level-2: #b3dbfd;\n",
       "  --sklearn-color-fitted-level-3: cornflowerblue;\n",
       "\n",
       "  /* Specific color for light theme */\n",
       "  --sklearn-color-text-on-default-background: var(--sg-text-color, var(--theme-code-foreground, var(--jp-content-font-color1, black)));\n",
       "  --sklearn-color-background: var(--sg-background-color, var(--theme-background, var(--jp-layout-color0, white)));\n",
       "  --sklearn-color-border-box: var(--sg-text-color, var(--theme-code-foreground, var(--jp-content-font-color1, black)));\n",
       "  --sklearn-color-icon: #696969;\n",
       "\n",
       "  @media (prefers-color-scheme: dark) {\n",
       "    /* Redefinition of color scheme for dark theme */\n",
       "    --sklearn-color-text-on-default-background: var(--sg-text-color, var(--theme-code-foreground, var(--jp-content-font-color1, white)));\n",
       "    --sklearn-color-background: var(--sg-background-color, var(--theme-background, var(--jp-layout-color0, #111)));\n",
       "    --sklearn-color-border-box: var(--sg-text-color, var(--theme-code-foreground, var(--jp-content-font-color1, white)));\n",
       "    --sklearn-color-icon: #878787;\n",
       "  }\n",
       "}\n",
       "\n",
       "#sk-container-id-1 {\n",
       "  color: var(--sklearn-color-text);\n",
       "}\n",
       "\n",
       "#sk-container-id-1 pre {\n",
       "  padding: 0;\n",
       "}\n",
       "\n",
       "#sk-container-id-1 input.sk-hidden--visually {\n",
       "  border: 0;\n",
       "  clip: rect(1px 1px 1px 1px);\n",
       "  clip: rect(1px, 1px, 1px, 1px);\n",
       "  height: 1px;\n",
       "  margin: -1px;\n",
       "  overflow: hidden;\n",
       "  padding: 0;\n",
       "  position: absolute;\n",
       "  width: 1px;\n",
       "}\n",
       "\n",
       "#sk-container-id-1 div.sk-dashed-wrapped {\n",
       "  border: 1px dashed var(--sklearn-color-line);\n",
       "  margin: 0 0.4em 0.5em 0.4em;\n",
       "  box-sizing: border-box;\n",
       "  padding-bottom: 0.4em;\n",
       "  background-color: var(--sklearn-color-background);\n",
       "}\n",
       "\n",
       "#sk-container-id-1 div.sk-container {\n",
       "  /* jupyter's `normalize.less` sets `[hidden] { display: none; }`\n",
       "     but bootstrap.min.css set `[hidden] { display: none !important; }`\n",
       "     so we also need the `!important` here to be able to override the\n",
       "     default hidden behavior on the sphinx rendered scikit-learn.org.\n",
       "     See: https://github.com/scikit-learn/scikit-learn/issues/21755 */\n",
       "  display: inline-block !important;\n",
       "  position: relative;\n",
       "}\n",
       "\n",
       "#sk-container-id-1 div.sk-text-repr-fallback {\n",
       "  display: none;\n",
       "}\n",
       "\n",
       "div.sk-parallel-item,\n",
       "div.sk-serial,\n",
       "div.sk-item {\n",
       "  /* draw centered vertical line to link estimators */\n",
       "  background-image: linear-gradient(var(--sklearn-color-text-on-default-background), var(--sklearn-color-text-on-default-background));\n",
       "  background-size: 2px 100%;\n",
       "  background-repeat: no-repeat;\n",
       "  background-position: center center;\n",
       "}\n",
       "\n",
       "/* Parallel-specific style estimator block */\n",
       "\n",
       "#sk-container-id-1 div.sk-parallel-item::after {\n",
       "  content: \"\";\n",
       "  width: 100%;\n",
       "  border-bottom: 2px solid var(--sklearn-color-text-on-default-background);\n",
       "  flex-grow: 1;\n",
       "}\n",
       "\n",
       "#sk-container-id-1 div.sk-parallel {\n",
       "  display: flex;\n",
       "  align-items: stretch;\n",
       "  justify-content: center;\n",
       "  background-color: var(--sklearn-color-background);\n",
       "  position: relative;\n",
       "}\n",
       "\n",
       "#sk-container-id-1 div.sk-parallel-item {\n",
       "  display: flex;\n",
       "  flex-direction: column;\n",
       "}\n",
       "\n",
       "#sk-container-id-1 div.sk-parallel-item:first-child::after {\n",
       "  align-self: flex-end;\n",
       "  width: 50%;\n",
       "}\n",
       "\n",
       "#sk-container-id-1 div.sk-parallel-item:last-child::after {\n",
       "  align-self: flex-start;\n",
       "  width: 50%;\n",
       "}\n",
       "\n",
       "#sk-container-id-1 div.sk-parallel-item:only-child::after {\n",
       "  width: 0;\n",
       "}\n",
       "\n",
       "/* Serial-specific style estimator block */\n",
       "\n",
       "#sk-container-id-1 div.sk-serial {\n",
       "  display: flex;\n",
       "  flex-direction: column;\n",
       "  align-items: center;\n",
       "  background-color: var(--sklearn-color-background);\n",
       "  padding-right: 1em;\n",
       "  padding-left: 1em;\n",
       "}\n",
       "\n",
       "\n",
       "/* Toggleable style: style used for estimator/Pipeline/ColumnTransformer box that is\n",
       "clickable and can be expanded/collapsed.\n",
       "- Pipeline and ColumnTransformer use this feature and define the default style\n",
       "- Estimators will overwrite some part of the style using the `sk-estimator` class\n",
       "*/\n",
       "\n",
       "/* Pipeline and ColumnTransformer style (default) */\n",
       "\n",
       "#sk-container-id-1 div.sk-toggleable {\n",
       "  /* Default theme specific background. It is overwritten whether we have a\n",
       "  specific estimator or a Pipeline/ColumnTransformer */\n",
       "  background-color: var(--sklearn-color-background);\n",
       "}\n",
       "\n",
       "/* Toggleable label */\n",
       "#sk-container-id-1 label.sk-toggleable__label {\n",
       "  cursor: pointer;\n",
       "  display: block;\n",
       "  width: 100%;\n",
       "  margin-bottom: 0;\n",
       "  padding: 0.5em;\n",
       "  box-sizing: border-box;\n",
       "  text-align: center;\n",
       "}\n",
       "\n",
       "#sk-container-id-1 label.sk-toggleable__label-arrow:before {\n",
       "  /* Arrow on the left of the label */\n",
       "  content: \"▸\";\n",
       "  float: left;\n",
       "  margin-right: 0.25em;\n",
       "  color: var(--sklearn-color-icon);\n",
       "}\n",
       "\n",
       "#sk-container-id-1 label.sk-toggleable__label-arrow:hover:before {\n",
       "  color: var(--sklearn-color-text);\n",
       "}\n",
       "\n",
       "/* Toggleable content - dropdown */\n",
       "\n",
       "#sk-container-id-1 div.sk-toggleable__content {\n",
       "  max-height: 0;\n",
       "  max-width: 0;\n",
       "  overflow: hidden;\n",
       "  text-align: left;\n",
       "  /* unfitted */\n",
       "  background-color: var(--sklearn-color-unfitted-level-0);\n",
       "}\n",
       "\n",
       "#sk-container-id-1 div.sk-toggleable__content.fitted {\n",
       "  /* fitted */\n",
       "  background-color: var(--sklearn-color-fitted-level-0);\n",
       "}\n",
       "\n",
       "#sk-container-id-1 div.sk-toggleable__content pre {\n",
       "  margin: 0.2em;\n",
       "  border-radius: 0.25em;\n",
       "  color: var(--sklearn-color-text);\n",
       "  /* unfitted */\n",
       "  background-color: var(--sklearn-color-unfitted-level-0);\n",
       "}\n",
       "\n",
       "#sk-container-id-1 div.sk-toggleable__content.fitted pre {\n",
       "  /* unfitted */\n",
       "  background-color: var(--sklearn-color-fitted-level-0);\n",
       "}\n",
       "\n",
       "#sk-container-id-1 input.sk-toggleable__control:checked~div.sk-toggleable__content {\n",
       "  /* Expand drop-down */\n",
       "  max-height: 200px;\n",
       "  max-width: 100%;\n",
       "  overflow: auto;\n",
       "}\n",
       "\n",
       "#sk-container-id-1 input.sk-toggleable__control:checked~label.sk-toggleable__label-arrow:before {\n",
       "  content: \"▾\";\n",
       "}\n",
       "\n",
       "/* Pipeline/ColumnTransformer-specific style */\n",
       "\n",
       "#sk-container-id-1 div.sk-label input.sk-toggleable__control:checked~label.sk-toggleable__label {\n",
       "  color: var(--sklearn-color-text);\n",
       "  background-color: var(--sklearn-color-unfitted-level-2);\n",
       "}\n",
       "\n",
       "#sk-container-id-1 div.sk-label.fitted input.sk-toggleable__control:checked~label.sk-toggleable__label {\n",
       "  background-color: var(--sklearn-color-fitted-level-2);\n",
       "}\n",
       "\n",
       "/* Estimator-specific style */\n",
       "\n",
       "/* Colorize estimator box */\n",
       "#sk-container-id-1 div.sk-estimator input.sk-toggleable__control:checked~label.sk-toggleable__label {\n",
       "  /* unfitted */\n",
       "  background-color: var(--sklearn-color-unfitted-level-2);\n",
       "}\n",
       "\n",
       "#sk-container-id-1 div.sk-estimator.fitted input.sk-toggleable__control:checked~label.sk-toggleable__label {\n",
       "  /* fitted */\n",
       "  background-color: var(--sklearn-color-fitted-level-2);\n",
       "}\n",
       "\n",
       "#sk-container-id-1 div.sk-label label.sk-toggleable__label,\n",
       "#sk-container-id-1 div.sk-label label {\n",
       "  /* The background is the default theme color */\n",
       "  color: var(--sklearn-color-text-on-default-background);\n",
       "}\n",
       "\n",
       "/* On hover, darken the color of the background */\n",
       "#sk-container-id-1 div.sk-label:hover label.sk-toggleable__label {\n",
       "  color: var(--sklearn-color-text);\n",
       "  background-color: var(--sklearn-color-unfitted-level-2);\n",
       "}\n",
       "\n",
       "/* Label box, darken color on hover, fitted */\n",
       "#sk-container-id-1 div.sk-label.fitted:hover label.sk-toggleable__label.fitted {\n",
       "  color: var(--sklearn-color-text);\n",
       "  background-color: var(--sklearn-color-fitted-level-2);\n",
       "}\n",
       "\n",
       "/* Estimator label */\n",
       "\n",
       "#sk-container-id-1 div.sk-label label {\n",
       "  font-family: monospace;\n",
       "  font-weight: bold;\n",
       "  display: inline-block;\n",
       "  line-height: 1.2em;\n",
       "}\n",
       "\n",
       "#sk-container-id-1 div.sk-label-container {\n",
       "  text-align: center;\n",
       "}\n",
       "\n",
       "/* Estimator-specific */\n",
       "#sk-container-id-1 div.sk-estimator {\n",
       "  font-family: monospace;\n",
       "  border: 1px dotted var(--sklearn-color-border-box);\n",
       "  border-radius: 0.25em;\n",
       "  box-sizing: border-box;\n",
       "  margin-bottom: 0.5em;\n",
       "  /* unfitted */\n",
       "  background-color: var(--sklearn-color-unfitted-level-0);\n",
       "}\n",
       "\n",
       "#sk-container-id-1 div.sk-estimator.fitted {\n",
       "  /* fitted */\n",
       "  background-color: var(--sklearn-color-fitted-level-0);\n",
       "}\n",
       "\n",
       "/* on hover */\n",
       "#sk-container-id-1 div.sk-estimator:hover {\n",
       "  /* unfitted */\n",
       "  background-color: var(--sklearn-color-unfitted-level-2);\n",
       "}\n",
       "\n",
       "#sk-container-id-1 div.sk-estimator.fitted:hover {\n",
       "  /* fitted */\n",
       "  background-color: var(--sklearn-color-fitted-level-2);\n",
       "}\n",
       "\n",
       "/* Specification for estimator info (e.g. \"i\" and \"?\") */\n",
       "\n",
       "/* Common style for \"i\" and \"?\" */\n",
       "\n",
       ".sk-estimator-doc-link,\n",
       "a:link.sk-estimator-doc-link,\n",
       "a:visited.sk-estimator-doc-link {\n",
       "  float: right;\n",
       "  font-size: smaller;\n",
       "  line-height: 1em;\n",
       "  font-family: monospace;\n",
       "  background-color: var(--sklearn-color-background);\n",
       "  border-radius: 1em;\n",
       "  height: 1em;\n",
       "  width: 1em;\n",
       "  text-decoration: none !important;\n",
       "  margin-left: 1ex;\n",
       "  /* unfitted */\n",
       "  border: var(--sklearn-color-unfitted-level-1) 1pt solid;\n",
       "  color: var(--sklearn-color-unfitted-level-1);\n",
       "}\n",
       "\n",
       ".sk-estimator-doc-link.fitted,\n",
       "a:link.sk-estimator-doc-link.fitted,\n",
       "a:visited.sk-estimator-doc-link.fitted {\n",
       "  /* fitted */\n",
       "  border: var(--sklearn-color-fitted-level-1) 1pt solid;\n",
       "  color: var(--sklearn-color-fitted-level-1);\n",
       "}\n",
       "\n",
       "/* On hover */\n",
       "div.sk-estimator:hover .sk-estimator-doc-link:hover,\n",
       ".sk-estimator-doc-link:hover,\n",
       "div.sk-label-container:hover .sk-estimator-doc-link:hover,\n",
       ".sk-estimator-doc-link:hover {\n",
       "  /* unfitted */\n",
       "  background-color: var(--sklearn-color-unfitted-level-3);\n",
       "  color: var(--sklearn-color-background);\n",
       "  text-decoration: none;\n",
       "}\n",
       "\n",
       "div.sk-estimator.fitted:hover .sk-estimator-doc-link.fitted:hover,\n",
       ".sk-estimator-doc-link.fitted:hover,\n",
       "div.sk-label-container:hover .sk-estimator-doc-link.fitted:hover,\n",
       ".sk-estimator-doc-link.fitted:hover {\n",
       "  /* fitted */\n",
       "  background-color: var(--sklearn-color-fitted-level-3);\n",
       "  color: var(--sklearn-color-background);\n",
       "  text-decoration: none;\n",
       "}\n",
       "\n",
       "/* Span, style for the box shown on hovering the info icon */\n",
       ".sk-estimator-doc-link span {\n",
       "  display: none;\n",
       "  z-index: 9999;\n",
       "  position: relative;\n",
       "  font-weight: normal;\n",
       "  right: .2ex;\n",
       "  padding: .5ex;\n",
       "  margin: .5ex;\n",
       "  width: min-content;\n",
       "  min-width: 20ex;\n",
       "  max-width: 50ex;\n",
       "  color: var(--sklearn-color-text);\n",
       "  box-shadow: 2pt 2pt 4pt #999;\n",
       "  /* unfitted */\n",
       "  background: var(--sklearn-color-unfitted-level-0);\n",
       "  border: .5pt solid var(--sklearn-color-unfitted-level-3);\n",
       "}\n",
       "\n",
       ".sk-estimator-doc-link.fitted span {\n",
       "  /* fitted */\n",
       "  background: var(--sklearn-color-fitted-level-0);\n",
       "  border: var(--sklearn-color-fitted-level-3);\n",
       "}\n",
       "\n",
       ".sk-estimator-doc-link:hover span {\n",
       "  display: block;\n",
       "}\n",
       "\n",
       "/* \"?\"-specific style due to the `<a>` HTML tag */\n",
       "\n",
       "#sk-container-id-1 a.estimator_doc_link {\n",
       "  float: right;\n",
       "  font-size: 1rem;\n",
       "  line-height: 1em;\n",
       "  font-family: monospace;\n",
       "  background-color: var(--sklearn-color-background);\n",
       "  border-radius: 1rem;\n",
       "  height: 1rem;\n",
       "  width: 1rem;\n",
       "  text-decoration: none;\n",
       "  /* unfitted */\n",
       "  color: var(--sklearn-color-unfitted-level-1);\n",
       "  border: var(--sklearn-color-unfitted-level-1) 1pt solid;\n",
       "}\n",
       "\n",
       "#sk-container-id-1 a.estimator_doc_link.fitted {\n",
       "  /* fitted */\n",
       "  border: var(--sklearn-color-fitted-level-1) 1pt solid;\n",
       "  color: var(--sklearn-color-fitted-level-1);\n",
       "}\n",
       "\n",
       "/* On hover */\n",
       "#sk-container-id-1 a.estimator_doc_link:hover {\n",
       "  /* unfitted */\n",
       "  background-color: var(--sklearn-color-unfitted-level-3);\n",
       "  color: var(--sklearn-color-background);\n",
       "  text-decoration: none;\n",
       "}\n",
       "\n",
       "#sk-container-id-1 a.estimator_doc_link.fitted:hover {\n",
       "  /* fitted */\n",
       "  background-color: var(--sklearn-color-fitted-level-3);\n",
       "}\n",
       "</style><div id=\"sk-container-id-1\" class=\"sk-top-container\"><div class=\"sk-text-repr-fallback\"><pre>XGBRegressor(base_score=None, booster=None, callbacks=None,\n",
       "             colsample_bylevel=None, colsample_bynode=None,\n",
       "             colsample_bytree=None, device=None, early_stopping_rounds=None,\n",
       "             enable_categorical=False, eval_metric=None, feature_types=None,\n",
       "             gamma=0, grow_policy=None, importance_type=None,\n",
       "             interaction_constraints=None, learning_rate=0.1, max_bin=None,\n",
       "             max_cat_threshold=None, max_cat_to_onehot=None,\n",
       "             max_delta_step=None, max_depth=7, max_leaves=None,\n",
       "             min_child_weight=13, missing=nan, monotone_constraints=None,\n",
       "             multi_strategy=None, n_estimators=100, n_jobs=None,\n",
       "             num_parallel_tree=None, random_state=42, ...)</pre><b>In a Jupyter environment, please rerun this cell to show the HTML representation or trust the notebook. <br />On GitHub, the HTML representation is unable to render, please try loading this page with nbviewer.org.</b></div><div class=\"sk-container\" hidden><div class=\"sk-item\"><div class=\"sk-estimator fitted sk-toggleable\"><input class=\"sk-toggleable__control sk-hidden--visually\" id=\"sk-estimator-id-1\" type=\"checkbox\" checked><label for=\"sk-estimator-id-1\" class=\"sk-toggleable__label fitted sk-toggleable__label-arrow fitted\">&nbsp;XGBRegressor<span class=\"sk-estimator-doc-link fitted\">i<span>Fitted</span></span></label><div class=\"sk-toggleable__content fitted\"><pre>XGBRegressor(base_score=None, booster=None, callbacks=None,\n",
       "             colsample_bylevel=None, colsample_bynode=None,\n",
       "             colsample_bytree=None, device=None, early_stopping_rounds=None,\n",
       "             enable_categorical=False, eval_metric=None, feature_types=None,\n",
       "             gamma=0, grow_policy=None, importance_type=None,\n",
       "             interaction_constraints=None, learning_rate=0.1, max_bin=None,\n",
       "             max_cat_threshold=None, max_cat_to_onehot=None,\n",
       "             max_delta_step=None, max_depth=7, max_leaves=None,\n",
       "             min_child_weight=13, missing=nan, monotone_constraints=None,\n",
       "             multi_strategy=None, n_estimators=100, n_jobs=None,\n",
       "             num_parallel_tree=None, random_state=42, ...)</pre></div> </div></div></div></div>"
      ],
      "text/plain": [
       "XGBRegressor(base_score=None, booster=None, callbacks=None,\n",
       "             colsample_bylevel=None, colsample_bynode=None,\n",
       "             colsample_bytree=None, device=None, early_stopping_rounds=None,\n",
       "             enable_categorical=False, eval_metric=None, feature_types=None,\n",
       "             gamma=0, grow_policy=None, importance_type=None,\n",
       "             interaction_constraints=None, learning_rate=0.1, max_bin=None,\n",
       "             max_cat_threshold=None, max_cat_to_onehot=None,\n",
       "             max_delta_step=None, max_depth=7, max_leaves=None,\n",
       "             min_child_weight=13, missing=nan, monotone_constraints=None,\n",
       "             multi_strategy=None, n_estimators=100, n_jobs=None,\n",
       "             num_parallel_tree=None, random_state=42, ...)"
      ]
     },
     "execution_count": 26,
     "metadata": {},
     "output_type": "execute_result"
    }
   ],
   "source": [
    "# tune final version on entire data set\n",
    "xgb_fb_final = XGBRegressor(**best_params)\n",
    "xgb_fb_final.fit(X, y)"
   ]
  },
  {
   "cell_type": "markdown",
   "id": "aaddf91b",
   "metadata": {},
   "source": [
    "<a id='offspeed-tuning'></a>\n",
    "## Offspeed% Model"
   ]
  },
  {
   "cell_type": "markdown",
   "id": "efd578f2",
   "metadata": {},
   "source": [
    "### Default Model"
   ]
  },
  {
   "cell_type": "code",
   "execution_count": 27,
   "id": "68ca61ba",
   "metadata": {},
   "outputs": [
    {
     "name": "stdout",
     "output_type": "stream",
     "text": [
      "-----FB-----\n",
      "R2 Score: 0.6553\n",
      "RMSE: 0.0247\n"
     ]
    }
   ],
   "source": [
    "# split data into input and output sets\n",
    "X = stats_prev[OS_feats]\n",
    "y = stats_prev['OS%']\n",
    "\n",
    "# convert hits into hits_R, hits_L, and hits_S\n",
    "X = pd.get_dummies(X, dtype=int)\n",
    "\n",
    "# get training and testing splits\n",
    "X_train, X_test, y_train, y_test = train_test_split(X, y, random_state=42)\n",
    "\n",
    "# create and fit model with default parameters\n",
    "xgb_os = XGBRegressor(random_state=42)\n",
    "xgb_os.fit(X_train, y_train)\n",
    "\n",
    "# get predictions for test set\n",
    "OS_preds = xgb_os.predict(X_test)\n",
    "\n",
    "# print R2 and RMSE\n",
    "print('-----FB-----')\n",
    "print(f\"R2 Score: {r2_score(y_test, OS_preds):.4f}\")\n",
    "print(f\"RMSE: {root_mean_squared_error(y_test, OS_preds):.4f}\")"
   ]
  },
  {
   "cell_type": "markdown",
   "id": "a409b0a7",
   "metadata": {},
   "source": [
    "### Hyperparameter Tuning"
   ]
  },
  {
   "cell_type": "code",
   "execution_count": 28,
   "id": "c871d150",
   "metadata": {},
   "outputs": [],
   "source": [
    "# create function to to hyperparameter tuning using grid search given a parameter grid and existing parameters\n",
    "def tune_os_hyperparameters(param_grid, existing_params):\n",
    "    \n",
    "    # add random state to parameters list\n",
    "    existing_params['random_state'] = 42\n",
    "    \n",
    "    # split data into input and output sets\n",
    "    X = pd.get_dummies(stats_prev[OS_feats], dtype=int)\n",
    "    y = stats_prev['OS%']\n",
    "    \n",
    "    # create training and testing splits\n",
    "    X_train, X_test, y_train, y_test = train_test_split(X, y, random_state=42)\n",
    "    \n",
    "    # create model with existing parameters\n",
    "    xgb_os = XGBRegressor(**existing_params)\n",
    "    \n",
    "    # define and run grid search on training data\n",
    "    grid_search = GridSearchCV(\n",
    "        estimator=xgb_os,\n",
    "        param_grid=param_grid,\n",
    "        scoring='neg_root_mean_squared_error',\n",
    "        cv=5,  \n",
    "        n_jobs=-1 \n",
    "    )\n",
    "    grid_search.fit(X_train, y_train)\n",
    "\n",
    "    # print the best parameters and the best score achieved\n",
    "    print(f\"Best parameters: {grid_search.best_params_}\")\n",
    "    print(f\"Best cross-validation RMSE: {-grid_search.best_score_:.4f}\")\n",
    "    \n",
    "    # return the best parameters\n",
    "    return grid_search.best_params_"
   ]
  },
  {
   "cell_type": "markdown",
   "id": "451926a9",
   "metadata": {},
   "source": [
    "#### Tuning `n_estimators` and `learning_rate`"
   ]
  },
  {
   "cell_type": "code",
   "execution_count": 29,
   "id": "5e545632",
   "metadata": {},
   "outputs": [
    {
     "name": "stdout",
     "output_type": "stream",
     "text": [
      "Best parameters: {'learning_rate': 0.05, 'n_estimators': 100}\n",
      "Best cross-validation RMSE: 0.0232\n"
     ]
    }
   ],
   "source": [
    "# define possible values for n_estimators and learning_rate\n",
    "param_grid = {\n",
    "    'n_estimators': [100, 150, 200, 250, 300],\n",
    "    'learning_rate': [0.005, 0.01, 0.05, 0.1, 0.2]\n",
    "}\n",
    "\n",
    "# no existing parameters\n",
    "existing_params = {}\n",
    "\n",
    "# run hyperparameter tuning and get best parameters\n",
    "grid_search_1_params = tune_os_hyperparameters(param_grid, existing_params)"
   ]
  },
  {
   "cell_type": "markdown",
   "id": "722d5bf2",
   "metadata": {},
   "source": [
    "#### Tuning `max_depth` and `min_child_weight`"
   ]
  },
  {
   "cell_type": "code",
   "execution_count": null,
   "id": "99022caf",
   "metadata": {},
   "outputs": [],
   "source": [
    "# define possible values for max_depth and min_child_weight\n",
    "param_grid = {\n",
    "    'max_depth': [3, 4, 5, 6, 7],\n",
    "    'min_child_weight': [5, 7, 9, 11, 13] \n",
    "}\n",
    "\n",
    "# use best parameters found from first grid search\n",
    "existing_params = grid_search_1_params\n",
    "\n",
    "# run hyperparameter tuning and get best parameters\n",
    "grid_search_2_params = tune_os_hyperparameters(param_grid, existing_params)"
   ]
  },
  {
   "cell_type": "markdown",
   "id": "3039dc51",
   "metadata": {},
   "source": [
    "#### Tuning `gamma`"
   ]
  },
  {
   "cell_type": "code",
   "execution_count": null,
   "id": "754154e0",
   "metadata": {},
   "outputs": [],
   "source": [
    "# define possible values for gamma\n",
    "param_grid = {\n",
    "    'gamma': [0, 0.1, 0.2, 0.5, 1, 2, 5] \n",
    "}\n",
    "\n",
    "# use best parameters found from first and secon grid searches\n",
    "existing_params = grid_search_1_params | grid_search_2_params\n",
    "\n",
    "# run hyperparameter tuning and get best parameters\n",
    "grid_search_3_params = tune_os_hyperparameters(param_grid, existing_params)"
   ]
  },
  {
   "cell_type": "markdown",
   "id": "7c990c30",
   "metadata": {},
   "source": [
    "### Final Tuned Model"
   ]
  },
  {
   "cell_type": "code",
   "execution_count": null,
   "id": "68f4126f",
   "metadata": {},
   "outputs": [],
   "source": [
    "# split data into input and output sets\n",
    "X = stats_prev[OS_feats]\n",
    "y = stats_prev['OS%']\n",
    "\n",
    "# convert hits into hits_R, hits_L, and hits_S\n",
    "X = pd.get_dummies(X, dtype=int)\n",
    "\n",
    "# get training and testing splits\n",
    "X_train, X_test, y_train, y_test = train_test_split(X, y, random_state=42)\n",
    "\n",
    "# get optimal parameters from the grid searches\n",
    "best_params = grid_search_1_params | grid_search_2_params | grid_search_3_params\n",
    "\n",
    "# create and fit model with default parameters\n",
    "xgb_os = XGBRegressor(**best_params)\n",
    "xgb_os.fit(X_train, y_train)\n",
    "\n",
    "# get predictions for test set\n",
    "OS_preds = xgb_os.predict(X_test)\n",
    "\n",
    "# print R2 and RMSE\n",
    "print('-----FB-----')\n",
    "print(f\"R2 Score: {r2_score(y_test, OS_preds):.4f}\")\n",
    "print(f\"RMSE: {root_mean_squared_error(y_test, OS_preds):.4f}\")"
   ]
  },
  {
   "cell_type": "code",
   "execution_count": null,
   "id": "d74e97ad",
   "metadata": {},
   "outputs": [],
   "source": [
    "# tune final version on entire data set\n",
    "xgb_os_final = XGBRegressor(**best_params)\n",
    "xgb_os_final.fit(X, y)"
   ]
  },
  {
   "cell_type": "markdown",
   "id": "b7ec3ff9",
   "metadata": {},
   "source": [
    "<a id='breaking-tuning'></a>\n",
    "## Breaking% Model"
   ]
  },
  {
   "cell_type": "markdown",
   "id": "7ab7ccc1",
   "metadata": {},
   "source": [
    "### Default Model"
   ]
  },
  {
   "cell_type": "code",
   "execution_count": null,
   "id": "5e39d16b",
   "metadata": {},
   "outputs": [],
   "source": [
    "# split data into input and output sets\n",
    "X = stats_prev[BB_feats]\n",
    "y = stats_prev['BB%']\n",
    "\n",
    "# convert hits into hits_R, hits_L, and hits_S\n",
    "X = pd.get_dummies(X, dtype=int)\n",
    "\n",
    "# get training and testing splits\n",
    "X_train, X_test, y_train, y_test = train_test_split(X, y, random_state=42)\n",
    "\n",
    "# create and fit model with default parameters\n",
    "xgb_bb = XGBRegressor(random_state=42)\n",
    "xgb_bb.fit(X_train, y_train)\n",
    "\n",
    "# get predictions for test set\n",
    "BB_preds = xgb_bb.predict(X_test)\n",
    "\n",
    "# print R2 and RMSE\n",
    "print('-----FB-----')\n",
    "print(f\"R2 Score: {r2_score(y_test, BB_preds):.4f}\")\n",
    "print(f\"RMSE: {root_mean_squared_error(y_test, BB_preds):.4f}\")"
   ]
  },
  {
   "cell_type": "markdown",
   "id": "d58e9661",
   "metadata": {},
   "source": [
    "### Hyperparameter Tuning"
   ]
  },
  {
   "cell_type": "code",
   "execution_count": null,
   "id": "6f7dfc51",
   "metadata": {},
   "outputs": [],
   "source": [
    "# create function to to hyperparameter tuning using grid search given a parameter grid and existing parameters\n",
    "def tune_bb_hyperparameters(param_grid, existing_params):\n",
    "    \n",
    "    # add random state to parameters list\n",
    "    existing_params['random_state'] = 42\n",
    "    \n",
    "    # split data into input and output sets\n",
    "    X = pd.get_dummies(stats_prev[BB_feats], dtype=int)\n",
    "    y = stats_prev['BB%']\n",
    "    \n",
    "    # create training and testing splits\n",
    "    X_train, X_test, y_train, y_test = train_test_split(X, y, random_state=42)\n",
    "    \n",
    "    # create model with existing parameters\n",
    "    xgb_bb = XGBRegressor(**existing_params)\n",
    "    \n",
    "    # define and run grid search on training data\n",
    "    grid_search = GridSearchCV(\n",
    "        estimator=xgb_bb,\n",
    "        param_grid=param_grid,\n",
    "        scoring='neg_root_mean_squared_error',\n",
    "        cv=5,  \n",
    "        n_jobs=-1 \n",
    "    )\n",
    "    grid_search.fit(X_train, y_train)\n",
    "\n",
    "    # print the best parameters and the best score achieved\n",
    "    print(f\"Best parameters: {grid_search.best_params_}\")\n",
    "    print(f\"Best cross-validation RMSE: {-grid_search.best_score_:.4f}\")\n",
    "    \n",
    "    # return the best parameters\n",
    "    return grid_search.best_params_"
   ]
  },
  {
   "cell_type": "markdown",
   "id": "3ce9c24c",
   "metadata": {},
   "source": [
    "#### Tuning `n_estimators` and `learning_rate`"
   ]
  },
  {
   "cell_type": "code",
   "execution_count": null,
   "id": "63178392",
   "metadata": {},
   "outputs": [],
   "source": [
    "# define possible values for n_estimators and learning_rate\n",
    "param_grid = {\n",
    "    'n_estimators': [100, 150, 200, 250, 300],\n",
    "    'learning_rate': [0.005, 0.01, 0.05, 0.1, 0.2]\n",
    "}\n",
    "\n",
    "# no existing parameters\n",
    "existing_params = {}\n",
    "\n",
    "# run hyperparameter tuning and get best parameters\n",
    "grid_search_1_params = tune_bb_hyperparameters(param_grid, existing_params)"
   ]
  },
  {
   "cell_type": "markdown",
   "id": "7c17b9e4",
   "metadata": {},
   "source": [
    "#### Tuning `max_depth` and `min_child_weight`"
   ]
  },
  {
   "cell_type": "code",
   "execution_count": null,
   "id": "2c20ddcc",
   "metadata": {},
   "outputs": [],
   "source": [
    "# define possible values for max_depth and min_child_weight\n",
    "param_grid = {\n",
    "    'max_depth': [3, 4, 5, 6, 7],\n",
    "    'min_child_weight': [5, 7, 9, 11, 13] \n",
    "}\n",
    "\n",
    "# use best parameters found from first grid search\n",
    "existing_params = grid_search_1_params\n",
    "\n",
    "# run hyperparameter tuning and get best parameters\n",
    "grid_search_2_params = tune_bb_hyperparameters(param_grid, existing_params)"
   ]
  },
  {
   "cell_type": "markdown",
   "id": "4fdb35f6",
   "metadata": {},
   "source": [
    "#### Tuning `gamma`"
   ]
  },
  {
   "cell_type": "code",
   "execution_count": null,
   "id": "a5d5ee21",
   "metadata": {},
   "outputs": [],
   "source": [
    "# define possible values for gamma\n",
    "param_grid = {\n",
    "    'gamma': [0, 0.1, 0.2, 0.5, 1, 2, 5] \n",
    "}\n",
    "\n",
    "# use best parameters found from first and secon grid searches\n",
    "existing_params = grid_search_1_params | grid_search_2_params\n",
    "\n",
    "# run hyperparameter tuning and get best parameters\n",
    "grid_search_3_params = tune_bb_hyperparameters(param_grid, existing_params)"
   ]
  },
  {
   "cell_type": "markdown",
   "id": "cef1d08d",
   "metadata": {},
   "source": [
    "### Final Tuned Model"
   ]
  },
  {
   "cell_type": "code",
   "execution_count": null,
   "id": "94d1d7b1",
   "metadata": {},
   "outputs": [],
   "source": [
    "# split data into input and output sets\n",
    "X = stats_prev[BB_feats]\n",
    "y = stats_prev['BB%']\n",
    "\n",
    "# convert hits into hits_R, hits_L, and hits_S\n",
    "X = pd.get_dummies(X, dtype=int)\n",
    "\n",
    "# get training and testing splits\n",
    "X_train, X_test, y_train, y_test = train_test_split(X, y, random_state=42)\n",
    "\n",
    "# get optimal parameters from the grid searches\n",
    "best_params = grid_search_1_params | grid_search_2_params | grid_search_3_params\n",
    "\n",
    "# create and fit model with default parameters\n",
    "xgb_bb = XGBRegressor(**best_params)\n",
    "xgb_bb.fit(X_train, y_train)\n",
    "\n",
    "# get predictions for test set\n",
    "BB_preds = xgb_bb.predict(X_test)\n",
    "\n",
    "# print R2 and RMSE\n",
    "print('-----FB-----')\n",
    "print(f\"R2 Score: {r2_score(y_test, BB_preds):.4f}\")\n",
    "print(f\"RMSE: {root_mean_squared_error(y_test, BB_preds):.4f}\")"
   ]
  },
  {
   "cell_type": "code",
   "execution_count": null,
   "id": "6174271a",
   "metadata": {},
   "outputs": [],
   "source": [
    "# tune final version on entire data set\n",
    "xgb_bb_final = XGBRegressor(**best_params)\n",
    "xgb_bb_final.fit(X, y)"
   ]
  },
  {
   "cell_type": "markdown",
   "id": "091b1161",
   "metadata": {},
   "source": [
    "<a id='section3'></a>\n",
    "# Generate Predictions\n",
    "The last step is to run the models on each pitch type and aggregate the results. The code below demonstrates this process. "
   ]
  },
  {
   "cell_type": "code",
   "execution_count": null,
   "id": "eec0bf09",
   "metadata": {},
   "outputs": [],
   "source": [
    "# get all players who do not appear in the stats_df for 2023\n",
    "missing_players = set(df['BATTER_ID'].drop_duplicates()) - set(stats_df.loc[stats_df['GAME_YEAR']==2023, 'BATTER_ID'])\n",
    "missing_players_df = stats_df.loc[(stats_df['BATTER_ID'].isin(missing_players)) & (stats_df['GAME_YEAR']==2022), :]\n",
    "\n",
    "# add the missing players to the 2023 df and rename columns\n",
    "preds_df = pd.concat([stats_df.loc[stats_df['GAME_YEAR']==2023, :], missing_players_df], axis=0).reset_index(drop=True)\n",
    "preds_df = preds_df.rename(columns={col:'prev_'+col for col in preds_df.columns[2:-2]})\n",
    "\n",
    "# merge in hits and convert it to hits_R, hits_L, and hits_S, then remove hits\n",
    "preds_df = pd.concat([preds_df, pd.get_dummies(preds_df[['BATTER_ID', 'GAME_YEAR']].merge(stats_df[['BATTER_ID', 'GAME_YEAR', 'hits']], on=['BATTER_ID', 'GAME_YEAR'])['hits'], prefix='hits', dtype=int)], axis=1)\n",
    "preds_df = preds_df.drop(columns=['hits'])\n",
    "\n",
    "# get predictions for each pitch classification\n",
    "preds_df['fb_pred'] = xgb_fb.predict(preds_df[xgb_fb.get_booster().feature_names])\n",
    "preds_df['os_pred'] = xgb_os.predict(preds_df[xgb_os.get_booster().feature_names])\n",
    "preds_df['bb_pred'] = xgb_bb.predict(preds_df[xgb_bb.get_booster().feature_names])\n",
    "\n",
    "# scale predictions to add to one\n",
    "preds_df[['PITCH_TYPE_FB', 'PITCH_TYPE_OS', 'PITCH_TYPE_BB']] = preds_df[['fb_pred', 'os_pred', 'bb_pred']].div(preds_df[['fb_pred', 'os_pred', 'bb_pred']].sum(axis=1), axis=0)\n",
    "\n",
    "# add player name to predictions\n",
    "preds_df = preds_df.merge(df[['BATTER_ID', 'PLAYER_NAME']].drop_duplicates(), on='BATTER_ID')\n",
    "\n",
    "# show prediction dataframe\n",
    "preds_df[['BATTER_ID', 'PLAYER_NAME', 'PITCH_TYPE_FB', 'PITCH_TYPE_OS', 'PITCH_TYPE_BB']].head()"
   ]
  },
  {
   "cell_type": "code",
   "execution_count": null,
   "id": "b20159c3",
   "metadata": {},
   "outputs": [],
   "source": [
    "preds_df[['BATTER_ID', 'PLAYER_NAME', 'PITCH_TYPE_FB', 'PITCH_TYPE_OS', 'PITCH_TYPE_BB']].to_csv('submission.csv')"
   ]
  },
  {
   "cell_type": "markdown",
   "id": "dc7ca0c4",
   "metadata": {},
   "source": [
    "# Export Products\n",
    "Export all the necessary models/data files to run the dashboard."
   ]
  },
  {
   "cell_type": "code",
   "execution_count": null,
   "id": "bec56287",
   "metadata": {},
   "outputs": [],
   "source": [
    "# export fastball model\n",
    "with open('xgb_fb.pkl', 'wb') as file:\n",
    "    pickle.dump(xgb_fb_final, file)\n",
    "\n",
    "# export offspeed model\n",
    "with open('xgb_os.pkl', 'wb') as file:\n",
    "    pickle.dump(xgb_os_final, file)\n",
    "\n",
    "# export breaking model\n",
    "with open('xgb_bb.pkl', 'wb') as file:\n",
    "    pickle.dump(xgb_bb_final, file)"
   ]
  },
  {
   "cell_type": "code",
   "execution_count": null,
   "id": "0e0b5317",
   "metadata": {},
   "outputs": [],
   "source": [
    "# export batter statistics for 2023\n",
    "stats_df_2023 = stats_df.loc[stats_df['GAME_YEAR']==2023, :].rename(columns={col:'prev_'+col for col in stats_df.columns[2:-2]})\n",
    "stats_df_2023 = stats_df_2023.merge(df[['BATTER_ID', 'PLAYER_NAME']].drop_duplicates(), on='BATTER_ID')\n",
    "stats_df_2023.to_csv('stats_df_2023.csv', index=False)"
   ]
  },
  {
   "cell_type": "code",
   "execution_count": null,
   "id": "41c38aaa",
   "metadata": {},
   "outputs": [],
   "source": []
  }
 ],
 "metadata": {
  "kernelspec": {
   "display_name": "Python 3 (ipykernel)",
   "language": "python",
   "name": "python3"
  },
  "language_info": {
   "codemirror_mode": {
    "name": "ipython",
    "version": 3
   },
   "file_extension": ".py",
   "mimetype": "text/x-python",
   "name": "python",
   "nbconvert_exporter": "python",
   "pygments_lexer": "ipython3",
   "version": "3.11.5"
  }
 },
 "nbformat": 4,
 "nbformat_minor": 5
}
